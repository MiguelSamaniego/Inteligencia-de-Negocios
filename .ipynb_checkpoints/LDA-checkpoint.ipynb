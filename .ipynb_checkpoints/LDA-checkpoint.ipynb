{
 "cells": [
  {
   "cell_type": "code",
   "execution_count": 1,
   "id": "5d50a447",
   "metadata": {},
   "outputs": [
    {
     "data": {
      "text/html": [
       "<div>\n",
       "<style scoped>\n",
       "    .dataframe tbody tr th:only-of-type {\n",
       "        vertical-align: middle;\n",
       "    }\n",
       "\n",
       "    .dataframe tbody tr th {\n",
       "        vertical-align: top;\n",
       "    }\n",
       "\n",
       "    .dataframe thead th {\n",
       "        text-align: right;\n",
       "    }\n",
       "</style>\n",
       "<table border=\"1\" class=\"dataframe\">\n",
       "  <thead>\n",
       "    <tr style=\"text-align: right;\">\n",
       "      <th></th>\n",
       "      <th>text_punc_num</th>\n",
       "    </tr>\n",
       "  </thead>\n",
       "  <tbody>\n",
       "    <tr>\n",
       "      <th>0</th>\n",
       "      <td>la peor delincuencia no es el de las calles e...</td>\n",
       "    </tr>\n",
       "    <tr>\n",
       "      <th>1</th>\n",
       "      <td>la policaa nacional rechaza y condena el acto...</td>\n",
       "    </tr>\n",
       "    <tr>\n",
       "      <th>2</th>\n",
       "      <td>ayer en villavicencio mientras daba una charl...</td>\n",
       "    </tr>\n",
       "    <tr>\n",
       "      <th>3</th>\n",
       "      <td>cuando va a colocar una unidad movil de maner...</td>\n",
       "    </tr>\n",
       "    <tr>\n",
       "      <th>4</th>\n",
       "      <td>tal vez no sea buena idea dejarse asesorar po...</td>\n",
       "    </tr>\n",
       "    <tr>\n",
       "      <th>...</th>\n",
       "      <td>...</td>\n",
       "    </tr>\n",
       "    <tr>\n",
       "      <th>7900</th>\n",
       "      <td>el manido chiste de la guitarra y la utilizac...</td>\n",
       "    </tr>\n",
       "    <tr>\n",
       "      <th>7901</th>\n",
       "      <td>el manido chiste de la guitarra y la utilizac...</td>\n",
       "    </tr>\n",
       "    <tr>\n",
       "      <th>7902</th>\n",
       "      <td>extradeportes  asisergio lopez mediocentro y ...</td>\n",
       "    </tr>\n",
       "    <tr>\n",
       "      <th>7903</th>\n",
       "      <td>francisco chahuan hoy llego a la moneda con u...</td>\n",
       "    </tr>\n",
       "    <tr>\n",
       "      <th>7904</th>\n",
       "      <td>ni un solo delito le han podido probar y aaº...</td>\n",
       "    </tr>\n",
       "  </tbody>\n",
       "</table>\n",
       "<p>7905 rows × 1 columns</p>\n",
       "</div>"
      ],
      "text/plain": [
       "                                          text_punc_num\n",
       "0      la peor delincuencia no es el de las calles e...\n",
       "1      la policaa nacional rechaza y condena el acto...\n",
       "2      ayer en villavicencio mientras daba una charl...\n",
       "3      cuando va a colocar una unidad movil de maner...\n",
       "4      tal vez no sea buena idea dejarse asesorar po...\n",
       "...                                                 ...\n",
       "7900   el manido chiste de la guitarra y la utilizac...\n",
       "7901   el manido chiste de la guitarra y la utilizac...\n",
       "7902   extradeportes  asisergio lopez mediocentro y ...\n",
       "7903   francisco chahuan hoy llego a la moneda con u...\n",
       "7904    ni un solo delito le han podido probar y aaº...\n",
       "\n",
       "[7905 rows x 1 columns]"
      ]
     },
     "execution_count": 1,
     "metadata": {},
     "output_type": "execute_result"
    }
   ],
   "source": [
    "import pandas as pd\n",
    "import re\n",
    "from nltk.corpus import stopwords\n",
    "from nltk.tokenize import word_tokenize\n",
    "\n",
    "# Cargar datos \n",
    "archivo_excel = 'Columna.csv'\n",
    "data = pd.read_csv(archivo_excel)\n",
    "data"
   ]
  },
  {
   "cell_type": "code",
   "execution_count": 2,
   "id": "9724ec7d",
   "metadata": {},
   "outputs": [],
   "source": [
    "replacements = {\n",
    "    'é': 'e',\n",
    "    'ñ': 'n',\n",
    "    'í': 'i',\n",
    "    'ó': 'o',\n",
    "    'á': 'a',\n",
    "    'ú': 'u',\n",
    "    'ã³':'o',\n",
    "    'ðÿ':' ',\n",
    "    'š½ ':'si'\n",
    "    # Añade más reemplazos según sea necesario\n",
    "}\n",
    "\n",
    "for original, replacement in replacements.items():\n",
    "    data['text_punc_num'] = data['text_punc_num'].str.replace(original, replacement)"
   ]
  },
  {
   "cell_type": "code",
   "execution_count": 3,
   "id": "6926a87f",
   "metadata": {},
   "outputs": [],
   "source": [
    "# nombre_archivo_nuevo = 'Columna.csv'\n",
    "# data['text_punc_num'].to_csv(nombre_archivo_nuevo, index=False)"
   ]
  },
  {
   "cell_type": "code",
   "execution_count": 4,
   "id": "dd15f386",
   "metadata": {},
   "outputs": [
    {
     "name": "stderr",
     "output_type": "stream",
     "text": [
      "[nltk_data] Downloading package stopwords to\n",
      "[nltk_data]     /Users/miguelsamaniego/nltk_data...\n",
      "[nltk_data]   Package stopwords is already up-to-date!\n",
      "[nltk_data] Downloading package wordnet to\n",
      "[nltk_data]     /Users/miguelsamaniego/nltk_data...\n",
      "[nltk_data]   Package wordnet is already up-to-date!\n",
      "[nltk_data] Downloading package punkt to\n",
      "[nltk_data]     /Users/miguelsamaniego/nltk_data...\n",
      "[nltk_data]   Package punkt is already up-to-date!\n"
     ]
    }
   ],
   "source": [
    "import pandas as pd\n",
    "import re\n",
    "from nltk.corpus import stopwords\n",
    "from nltk.stem import WordNetLemmatizer\n",
    "from nltk.tokenize import word_tokenize\n",
    "import nltk\n",
    "\n",
    "# Descargar las stopwords si es necesario\n",
    "nltk.download('stopwords')\n",
    "nltk.download('wordnet')\n",
    "nltk.download('punkt')\n",
    "\n",
    "# Preprocesamiento del texto\n",
    "def preprocesar(texto):\n",
    "\n",
    "    if isinstance(texto, float):\n",
    "        return []\n",
    "    # Convertir a minúsculas\n",
    "    texto = texto.lower()\n",
    "    # Eliminar caracteres no alfabéticos\n",
    "    texto = re.sub(r'[^a-záéíóúñ]+', ' ', texto)\n",
    "    # Tokenización\n",
    "    palabras = word_tokenize(texto)\n",
    "    # Eliminar stopwords\n",
    "    palabras = [palabra for palabra in palabras if palabra not in stopwords.words('spanish')]\n",
    "    # Lematización (opcional)\n",
    "#     lemmatizer = WordNetLemmatizer()\n",
    "#     palabras = [lemmatizer.lemmatize(palabra) for palabra in palabras]\n",
    "    return palabras\n",
    "\n",
    "# Ejemplo de uso\n",
    "# texto_ejemplo = \"Este es un ejemplo de texto para preprocesar.\"\n",
    "# texto_procesado = preprocesar(texto_ejemplo)\n",
    "# print(texto_procesado)\n"
   ]
  },
  {
   "cell_type": "code",
   "execution_count": 5,
   "id": "8b89ebcc",
   "metadata": {},
   "outputs": [
    {
     "data": {
      "text/plain": [
       "0       [peor, delincuencia, calles, prensa, roba, ver...\n",
       "1       [policaa, nacional, rechaza, condena, acto, de...\n",
       "2       [ayer, villavicencio, mientras, daba, charla, ...\n",
       "3       [va, colocar, unidad, movil, manera, permanent...\n",
       "4       [tal, vez, buena, idea, dejarse, asesorar, exm...\n",
       "                              ...                        \n",
       "7900    [manido, chiste, guitarra, utilizacion, delinc...\n",
       "7901    [manido, chiste, guitarra, utilizacion, delinc...\n",
       "7902    [extradeportes, asisergio, lopez, mediocentro,...\n",
       "7903    [francisco, chahuan, hoy, llego, moneda, guita...\n",
       "7904    [solo, delito, podido, probar, aa, n, detracto...\n",
       "Name: texto_procesado, Length: 7905, dtype: object"
      ]
     },
     "execution_count": 5,
     "metadata": {},
     "output_type": "execute_result"
    }
   ],
   "source": [
    "data['texto_procesado'] = data['text_punc_num'].apply(preprocesar)\n",
    "data['texto_procesado']"
   ]
  },
  {
   "cell_type": "code",
   "execution_count": 6,
   "id": "dd29b844",
   "metadata": {},
   "outputs": [],
   "source": [
    "from gensim.corpora import Dictionary\n",
    "\n",
    "# Crear un diccionario a partir de los textos procesados\n",
    "diccionario = Dictionary(data['texto_procesado'])\n",
    "\n",
    "# Crear un corpus (representación BOW)\n",
    "corpus = [diccionario.doc2bow(texto) for texto in data['texto_procesado']]\n"
   ]
  },
  {
   "cell_type": "code",
   "execution_count": 7,
   "id": "85b2e11a",
   "metadata": {},
   "outputs": [
    {
     "data": {
      "text/plain": [
       "[(0,\n",
       "  '0.088*\"delincuencia\" + 0.023*\"fanb\" + 0.023*\"tregua\" + 0.018*\"organizada\" + 0.018*\"gobierno\" + 0.013*\"ahora\" + 0.012*\"da\" + 0.012*\"combatir\" + 0.012*\"cara\" + 0.011*\"sistema\"'),\n",
       " (1,\n",
       "  '0.075*\"delincuencia\" + 0.071*\"corrupcion\" + 0.068*\"dicen\" + 0.064*\"maaana\" + 0.063*\"polaticos\" + 0.062*\"ligados\" + 0.062*\"parapolatica\" + 0.062*\"clanes\" + 0.062*\"marchoporpetro\" + 0.061*\"hoa\"'),\n",
       " (2,\n",
       "  '0.080*\"guitarra\" + 0.043*\"delincuencia\" + 0.028*\"rn\" + 0.028*\"hoy\" + 0.027*\"moneda\" + 0.026*\"cosa\" + 0.026*\"dice\" + 0.026*\"boric\" + 0.025*\"mala\" + 0.025*\"llego\"'),\n",
       " (3,\n",
       "  '0.053*\"delincuencia\" + 0.026*\"n\" + 0.021*\"si\" + 0.015*\"solo\" + 0.015*\"colombia\" + 0.014*\"desatada\" + 0.013*\"familia\" + 0.011*\"sabemos\" + 0.011*\"judicial\" + 0.011*\"lopez\"'),\n",
       " (4,\n",
       "  '0.075*\"presidente\" + 0.029*\"mientras\" + 0.026*\"dijo\" + 0.023*\"ayer\" + 0.022*\"libro\" + 0.022*\"joven\" + 0.022*\"pidio\" + 0.022*\"delina\" + 0.021*\"daba\" + 0.021*\"villavicencio\"')]"
      ]
     },
     "execution_count": 7,
     "metadata": {},
     "output_type": "execute_result"
    }
   ],
   "source": [
    "from gensim.models import LdaModel\n",
    "\n",
    "# Número de temas que quieres identificar\n",
    "num_temas = 5\n",
    "\n",
    "# Crear y entrenar el modelo LDA\n",
    "lda = LdaModel(corpus=corpus, id2word=diccionario, num_topics=num_temas, random_state=100, update_every=1, chunksize=100, passes=10, alpha='auto', per_word_topics=True)\n",
    "\n",
    "# Mostrar los temas\n",
    "lda.show_topics()\n"
   ]
  },
  {
   "cell_type": "code",
   "execution_count": 8,
   "id": "6dab287e",
   "metadata": {},
   "outputs": [
    {
     "name": "stdout",
     "output_type": "stream",
     "text": [
      "Tema 1: delincuencia - fanb - tregua - organizada - gobierno - ahora - da - combatir - cara - sistema\n",
      "Tema 2: delincuencia - corrupcion - dicen - maaana - polaticos - ligados - parapolatica - clanes - marchoporpetro - hoa\n",
      "Tema 3: guitarra - delincuencia - rn - hoy - moneda - cosa - dice - boric - mala - llego\n",
      "Tema 4: delincuencia - n - si - solo - colombia - desatada - familia - sabemos - judicial - lopez\n",
      "Tema 5: presidente - mientras - dijo - ayer - libro - joven - pidio - delina - daba - villavicencio\n"
     ]
    }
   ],
   "source": [
    "# Asumiendo que 'lda' es tu modelo LDA\n",
    "num_palabras = 10  # Número de palabras clave que deseas mostrar por tema\n",
    "\n",
    "for i, topic in enumerate(lda.show_topics(num_topics=num_temas, num_words=num_palabras, formatted=False)):\n",
    "    palabras_clave = [word for word, _ in topic[1]]\n",
    "    print(f\"Tema {i + 1}: {' - '.join(palabras_clave)}\")\n"
   ]
  },
  {
   "cell_type": "code",
   "execution_count": 9,
   "id": "1b6aa656",
   "metadata": {},
   "outputs": [
    {
     "data": {
      "text/html": [
       "\n",
       "<link rel=\"stylesheet\" type=\"text/css\" href=\"https://cdn.jsdelivr.net/gh/bmabey/pyLDAvis@3.4.0/pyLDAvis/js/ldavis.v1.0.0.css\">\n",
       "\n",
       "\n",
       "<div id=\"ldavis_el677554338098726683729089\" style=\"background-color:white;\"></div>\n",
       "<script type=\"text/javascript\">\n",
       "\n",
       "var ldavis_el677554338098726683729089_data = {\"mdsDat\": {\"x\": [-0.06702228127778435, -0.0819973086042622, 0.3679101489033389, -0.11843297041230343, -0.10045758860898886], \"y\": [-0.020173304613363065, -0.29993980596731906, 0.01620905990037775, 0.07678987214242458, 0.22711417853788013], \"topics\": [1, 2, 3, 4, 5], \"cluster\": [1, 1, 1, 1, 1], \"Freq\": [23.863440008930905, 18.558942583179928, 24.487681835274227, 17.589906544538177, 15.500029028076764]}, \"tinfo\": {\"Term\": [\"guitarra\", \"corrupcion\", \"presidente\", \"dicen\", \"maaana\", \"polaticos\", \"ligados\", \"parapolatica\", \"clanes\", \"marchoporpetro\", \"hoa\", \"delincuencia\", \"paas\", \"rn\", \"hoy\", \"moneda\", \"cosa\", \"dice\", \"boric\", \"mala\", \"llego\", \"mientras\", \"recuperar\", \"chahuan\", \"manera\", \"ta\", \"camara\", \"chiste\", \"francisco\", \"utilizacion\", \"fanb\", \"tregua\", \"organizada\", \"ahora\", \"da\", \"combatir\", \"cara\", \"anti\", \"sistema\", \"winter\", \"gonzalo\", \"idea\", \"ley\", \"vez\", \"anterior\", \"proyectos\", \"asa\", \"voto\", \"buena\", \"piaera\", \"tal\", \"interior\", \"asesorar\", \"dejarse\", \"desconta\", \"exministros\", \"carabineros\", \"puede\", \"prensa\", \"pa\", \"vactima\", \"gobierno\", \"delincuencia\", \"corrupcion\", \"dicen\", \"maaana\", \"polaticos\", \"clanes\", \"ligados\", \"parapolatica\", \"marchoporpetro\", \"hoa\", \"paas\", \"mejor\", \"delincuena\", \"autoridades\", \"migracion\", \"ignorancia\", \"chilenas\", \"leer\", \"columna\", \"escalofriante\", \"irrea\", \"mercurio\", \"recomiendo\", \"dura\", \"sera\", \"vamos\", \"ecuador\", \"tranquilo\", \"cuenta\", \"corridaa\", \"daremos\", \"delincuencia\", \"guitarra\", \"rn\", \"hoy\", \"moneda\", \"cosa\", \"dice\", \"boric\", \"mala\", \"llego\", \"recuperar\", \"chahuan\", \"manera\", \"ta\", \"camara\", \"chiste\", \"francisco\", \"utilizacion\", \"ganar\", \"manido\", \"dichos\", \"q\", \"poder\", \"destruccion\", \"senador\", \"delito\", \"ir\", \"frase\", \"estan\", \"pasa\", \"aca\", \"chile\", \"aa\", \"delincuencia\", \"historia\", \"n\", \"si\", \"colombia\", \"solo\", \"desatada\", \"familia\", \"judicial\", \"lopez\", \"aucas\", \"figura\", \"mediocentro\", \"sacar\", \"entonces\", \"gente\", \"esposa\", \"ademas\", \"perros\", \"total\", \"barbosa\", \"criminal\", \"materiala\", \"sacaba\", \"vaa\", \"aqua\", \"hacer\", \"ciudadanos\", \"puertas\", \"podido\", \"proteger\", \"plan\", \"sabemos\", \"lejos\", \"mandatario\", \"delincuencia\", \"asisergio\", \"cuadro\", \"presidente\", \"mientras\", \"dijo\", \"ayer\", \"libro\", \"pidio\", \"delina\", \"daba\", \"villavicencio\", \"charla\", \"feria\", \"palabra\", \"siempre\", \"nacional\", \"parque\", \"siendo\", \"reunion\", \"palacio\", \"ganaremos\", \"palabras\", \"esmeraldas\", \"bendicion\", \"certeza\", \"guera\", \"obispo\", \"recordara\", \"casa\", \"trata\", \"llevarle\", \"policaas\", \"joven\", \"mas\"], \"Freq\": [1754.0, 1166.0, 1032.0, 1124.0, 1056.0, 1043.0, 1030.0, 1030.0, 1030.0, 1024.0, 1013.0, 4875.0, 580.0, 611.0, 607.0, 591.0, 575.0, 563.0, 557.0, 554.0, 549.0, 404.0, 539.0, 535.0, 530.0, 525.0, 522.0, 521.0, 520.0, 519.0, 497.2517803301107, 493.0596438767948, 385.45036470302495, 277.0290773040387, 265.07072919424525, 258.14916364051015, 253.02410641267133, 225.28003022547298, 230.09996585237738, 220.55476225666857, 206.3621544945734, 205.5629124494687, 200.50503105930315, 199.98888153224243, 199.13726845988862, 198.49234875018132, 199.50000610780802, 196.75351584885195, 201.2518229070495, 171.20846861535236, 156.75533181634097, 154.10310346867513, 153.54275722814225, 153.54275722814225, 153.54275722814225, 153.54275722814225, 129.29741598891883, 127.1936484691392, 114.21248192580337, 112.02613998210714, 211.48663773912037, 378.4744092842556, 1872.3279560941946, 1165.3615402420714, 1123.2733157163289, 1055.6523991196407, 1042.643891432794, 1029.2868877004917, 1029.2868877004917, 1029.2868877004917, 1023.0099567192275, 1012.4973210639323, 579.8697123550872, 287.1436245117077, 268.1732792203845, 119.37920600528275, 89.95577262720866, 75.329074965692, 72.72630669793617, 72.70471810678107, 72.70048504969184, 72.70048504969184, 72.70048504969184, 72.70048504969184, 72.70048504969184, 68.79716001830734, 66.88939045639671, 58.42049015671828, 55.86637125961889, 55.07835689658833, 55.513572888867294, 48.253618300939074, 48.253618300939074, 1243.5535856465608, 1752.899216889879, 610.5753492971381, 606.6929177097062, 590.6410953421371, 574.2301872515679, 562.6136422508459, 556.7613167565264, 553.3845704819483, 548.6933023655146, 538.2914338777869, 534.8343807622166, 529.424819338112, 524.4733765547309, 521.5421565482369, 520.8319467313893, 519.8165546705486, 518.6266973178205, 517.7939352808041, 517.7939352808041, 500.41999502723894, 140.7127267309254, 133.64397803966474, 125.7521959347655, 81.87103708704797, 120.7240107642601, 75.70828929689513, 72.42278187068507, 69.48421969853143, 59.99792840820086, 58.52044196963015, 108.39417893950528, 154.76573335509372, 928.5656204659983, 74.47997950949105, 410.32715410489317, 323.9165258985186, 231.10300038575303, 235.61838964366382, 216.7102208336265, 208.2704219821026, 176.81815978418138, 176.7777622654088, 172.29298116726142, 171.90617747812536, 171.90617747812536, 146.9477763025746, 144.25262425202436, 141.64967600018943, 138.27735124059308, 136.98047271540273, 135.04518500856923, 158.87449814769946, 130.54550832838257, 129.65391801969733, 128.3406995808106, 128.3406995808106, 155.9409292492685, 85.83843944282779, 82.20130595688931, 80.66898678238438, 78.13177021015579, 154.54462526707735, 70.30988999671558, 59.55151574850858, 177.2632181834868, 153.61406718206794, 151.88355360795097, 830.5291599816958, 100.3285581951171, 100.3285581951171, 1032.140568717985, 403.3864918773939, 361.37250205671563, 312.71119054521836, 304.74056503840137, 299.4634710072897, 298.3251114147451, 294.2933633398356, 293.93033991554285, 293.67990800445773, 293.67990800445773, 293.67990800445773, 162.4572505124011, 139.87905247695448, 97.13997356833637, 95.51096412453306, 95.16845863299658, 94.87024796433708, 94.00753702792868, 92.3653953358105, 90.74885606417108, 90.71919119585337, 90.71919119585337, 90.71919119585337, 90.71919119585337, 90.71919119585337, 86.58833096393612, 83.91540741192023, 72.10371818959675, 71.72489492861388, 301.5460926054402, 80.25836872676427], \"Total\": [1754.0, 1166.0, 1032.0, 1124.0, 1056.0, 1043.0, 1030.0, 1030.0, 1030.0, 1024.0, 1013.0, 4875.0, 580.0, 611.0, 607.0, 591.0, 575.0, 563.0, 557.0, 554.0, 549.0, 404.0, 539.0, 535.0, 530.0, 525.0, 522.0, 521.0, 520.0, 519.0, 498.3065566329519, 494.1148478587897, 386.6632505663566, 278.08450240757446, 266.13040039613696, 259.203007012925, 254.0770739805443, 226.33383306169878, 231.18766886823272, 221.60708810105257, 207.4144802001176, 206.61902699150426, 201.55783977154414, 201.04561323398917, 200.1896630369016, 199.544676349897, 200.55913476271473, 197.80584256133795, 202.348284599705, 172.26150137824982, 157.80818015444973, 155.1556393329329, 154.59508293368646, 154.59508293368646, 154.59508293368646, 154.59508293368646, 130.3506986506289, 128.25098611491475, 115.27029101239769, 113.08478342307173, 213.8067584204963, 428.68751602462913, 4875.451661277626, 1166.3589573658544, 1124.272302319957, 1056.6481921077038, 1043.6394601579684, 1030.2818431946405, 1030.2818431946405, 1030.2818431946405, 1024.004900043328, 1013.4922572862265, 580.920139427906, 288.3184179972021, 269.2891657351266, 120.42565803274579, 90.95425623823098, 76.32500178320377, 73.72129788858601, 73.6996555396937, 73.69542127198595, 73.69542127198595, 73.69542127198595, 73.69542127198595, 73.69542127198595, 69.79841272962962, 67.89082976581747, 59.43598791761696, 56.86645219008482, 56.07666563645981, 56.543172369230774, 49.24886005104483, 49.24886005104483, 4875.451661277626, 1754.0258873782766, 611.700871928902, 607.8210367883815, 591.7666517451214, 575.3549882193565, 563.7385864370976, 557.8881457071251, 554.508723164892, 549.8170263094254, 539.4152202367877, 535.9585980621817, 530.5512806552158, 525.5983269422393, 522.6663245771572, 521.9560786767672, 520.9403154018931, 519.7504118083818, 518.9176332587749, 518.9176332587749, 501.5436929858811, 141.84808087349688, 135.00069979494452, 127.2600933595361, 83.00126641741886, 122.51151603843725, 76.84838996199952, 73.55475881074135, 70.63715560961748, 61.12788136421283, 59.656557009349996, 111.04837787053185, 169.22931821293741, 4875.451661277626, 124.92792316222514, 411.4225305244333, 325.0019603881663, 232.178321215044, 236.7157542198515, 217.78390882098066, 209.3440486267809, 177.8923713166969, 177.86648003453993, 173.38160601838766, 172.9965142835766, 172.9965142835766, 148.02131469870034, 145.32521974572595, 142.738349423446, 139.35005782924515, 138.05314353313375, 136.11764435905317, 160.17844831420544, 131.6177684404211, 130.72619859155193, 129.41295836395395, 129.41295836395395, 157.64822965667315, 86.91274050329179, 83.2797158678189, 81.76176526804707, 79.20402899329913, 156.86243714914167, 71.38426670926387, 60.62766679802644, 181.00719074213296, 157.94417566578628, 159.95866529626426, 4875.451661277626, 125.98363566183792, 125.98363566183792, 1032.9768154108053, 404.1751085370708, 362.1595470155194, 313.49692996422823, 305.5264070524719, 300.24913617338075, 299.11070050170844, 295.07885899354994, 294.71583797220757, 294.46540181349377, 294.46540181349377, 294.46540181349377, 163.28475865541463, 140.6864719170206, 97.92757702086094, 96.29980579112579, 95.95649194492462, 95.66061237105889, 94.79399456648257, 93.15484732088237, 91.53438362775721, 91.50468219042152, 91.50468219042152, 91.50468219042152, 91.50468219042152, 91.50468219042152, 87.432735447527, 84.80283323090917, 72.88957432844568, 72.52542613310085, 342.09842191638114, 218.85632373066753], \"Category\": [\"Default\", \"Default\", \"Default\", \"Default\", \"Default\", \"Default\", \"Default\", \"Default\", \"Default\", \"Default\", \"Default\", \"Default\", \"Default\", \"Default\", \"Default\", \"Default\", \"Default\", \"Default\", \"Default\", \"Default\", \"Default\", \"Default\", \"Default\", \"Default\", \"Default\", \"Default\", \"Default\", \"Default\", \"Default\", \"Default\", \"Topic1\", \"Topic1\", \"Topic1\", \"Topic1\", \"Topic1\", \"Topic1\", \"Topic1\", \"Topic1\", \"Topic1\", \"Topic1\", \"Topic1\", \"Topic1\", \"Topic1\", \"Topic1\", \"Topic1\", \"Topic1\", \"Topic1\", \"Topic1\", \"Topic1\", \"Topic1\", \"Topic1\", \"Topic1\", \"Topic1\", \"Topic1\", \"Topic1\", \"Topic1\", \"Topic1\", \"Topic1\", \"Topic1\", \"Topic1\", \"Topic1\", \"Topic1\", \"Topic1\", \"Topic2\", \"Topic2\", \"Topic2\", \"Topic2\", \"Topic2\", \"Topic2\", \"Topic2\", \"Topic2\", \"Topic2\", \"Topic2\", \"Topic2\", \"Topic2\", \"Topic2\", \"Topic2\", \"Topic2\", \"Topic2\", \"Topic2\", \"Topic2\", \"Topic2\", \"Topic2\", \"Topic2\", \"Topic2\", \"Topic2\", \"Topic2\", \"Topic2\", \"Topic2\", \"Topic2\", \"Topic2\", \"Topic2\", \"Topic2\", \"Topic2\", \"Topic3\", \"Topic3\", \"Topic3\", \"Topic3\", \"Topic3\", \"Topic3\", \"Topic3\", \"Topic3\", \"Topic3\", \"Topic3\", \"Topic3\", \"Topic3\", \"Topic3\", \"Topic3\", \"Topic3\", \"Topic3\", \"Topic3\", \"Topic3\", \"Topic3\", \"Topic3\", \"Topic3\", \"Topic3\", \"Topic3\", \"Topic3\", \"Topic3\", \"Topic3\", \"Topic3\", \"Topic3\", \"Topic3\", \"Topic3\", \"Topic3\", \"Topic3\", \"Topic3\", \"Topic3\", \"Topic4\", \"Topic4\", \"Topic4\", \"Topic4\", \"Topic4\", \"Topic4\", \"Topic4\", \"Topic4\", \"Topic4\", \"Topic4\", \"Topic4\", \"Topic4\", \"Topic4\", \"Topic4\", \"Topic4\", \"Topic4\", \"Topic4\", \"Topic4\", \"Topic4\", \"Topic4\", \"Topic4\", \"Topic4\", \"Topic4\", \"Topic4\", \"Topic4\", \"Topic4\", \"Topic4\", \"Topic4\", \"Topic4\", \"Topic4\", \"Topic4\", \"Topic4\", \"Topic4\", \"Topic4\", \"Topic4\", \"Topic4\", \"Topic5\", \"Topic5\", \"Topic5\", \"Topic5\", \"Topic5\", \"Topic5\", \"Topic5\", \"Topic5\", \"Topic5\", \"Topic5\", \"Topic5\", \"Topic5\", \"Topic5\", \"Topic5\", \"Topic5\", \"Topic5\", \"Topic5\", \"Topic5\", \"Topic5\", \"Topic5\", \"Topic5\", \"Topic5\", \"Topic5\", \"Topic5\", \"Topic5\", \"Topic5\", \"Topic5\", \"Topic5\", \"Topic5\", \"Topic5\", \"Topic5\", \"Topic5\"], \"logprob\": [30.0, 29.0, 28.0, 27.0, 26.0, 25.0, 24.0, 23.0, 22.0, 21.0, 20.0, 19.0, 18.0, 17.0, 16.0, 15.0, 14.0, 13.0, 12.0, 11.0, 10.0, 9.0, 8.0, 7.0, 6.0, 5.0, 4.0, 3.0, 2.0, 1.0, -3.7551, -3.7636, -4.0098, -4.3401, -4.3842, -4.4107, -4.4307, -4.5469, -4.5257, -4.5681, -4.6346, -4.6385, -4.6634, -4.6659, -4.6702, -4.6735, -4.6684, -4.6823, -4.6597, -4.8213, -4.9095, -4.9266, -4.9302, -4.9302, -4.9302, -4.9302, -5.1021, -5.1185, -5.2261, -5.2455, -4.61, -4.0281, -2.4293, -2.652, -2.6888, -2.7509, -2.7633, -2.7762, -2.7762, -2.7762, -2.7823, -2.7926, -3.35, -4.0528, -4.1212, -4.9305, -5.2135, -5.3909, -5.4261, -5.4264, -5.4265, -5.4265, -5.4265, -5.4265, -5.4265, -5.4817, -5.5098, -5.6451, -5.6899, -5.7041, -5.6962, -5.8363, -5.8363, -2.5871, -2.521, -3.5756, -3.582, -3.6088, -3.637, -3.6574, -3.6679, -3.674, -3.6825, -3.7016, -3.7081, -3.7182, -3.7276, -3.7332, -3.7346, -3.7366, -3.7388, -3.7405, -3.7405, -3.7746, -5.0433, -5.0949, -5.1557, -5.5849, -5.1965, -5.6631, -5.7075, -5.7489, -5.8957, -5.9207, -5.3043, -4.9481, -3.1564, -5.6795, -3.6422, -3.8787, -4.2163, -4.197, -4.2806, -4.3203, -4.4841, -4.4843, -4.51, -4.5122, -4.5122, -4.6691, -4.6876, -4.7058, -4.7299, -4.7393, -4.7536, -4.5911, -4.7875, -4.7943, -4.8045, -4.8045, -4.6097, -5.2067, -5.25, -5.2688, -5.3008, -4.6187, -5.4063, -5.5723, -4.4816, -4.6247, -4.6361, -2.9371, -5.0507, -5.0507, -2.5933, -3.5328, -3.6428, -3.7874, -3.8132, -3.8307, -3.8345, -3.8481, -3.8494, -3.8502, -3.8502, -3.8502, -4.4423, -4.5919, -4.9566, -4.9735, -4.9771, -4.9802, -4.9893, -5.007, -5.0246, -5.0249, -5.0249, -5.0249, -5.0249, -5.0249, -5.0715, -5.1029, -5.2546, -5.2599, -3.8238, -5.1475], \"loglift\": [30.0, 29.0, 28.0, 27.0, 26.0, 25.0, 24.0, 23.0, 22.0, 21.0, 20.0, 19.0, 18.0, 17.0, 16.0, 15.0, 14.0, 13.0, 12.0, 11.0, 10.0, 9.0, 8.0, 7.0, 6.0, 5.0, 4.0, 3.0, 2.0, 1.0, 1.4307, 1.4307, 1.4297, 1.429, 1.4288, 1.4287, 1.4287, 1.4282, 1.4281, 1.4281, 1.4277, 1.4277, 1.4276, 1.4276, 1.4276, 1.4275, 1.4275, 1.4275, 1.4274, 1.4267, 1.4261, 1.426, 1.426, 1.426, 1.426, 1.426, 1.4247, 1.4245, 1.4236, 1.4234, 1.4219, 1.3082, 0.4758, 1.6834, 1.6833, 1.6833, 1.6833, 1.6833, 1.6833, 1.6833, 1.6832, 1.6832, 1.6824, 1.6801, 1.6801, 1.6755, 1.6732, 1.6711, 1.6706, 1.6706, 1.6706, 1.6706, 1.6706, 1.6706, 1.6706, 1.6698, 1.6694, 1.667, 1.6665, 1.6663, 1.6658, 1.6638, 1.6638, 0.318, 1.4064, 1.4052, 1.4051, 1.4051, 1.405, 1.405, 1.405, 1.405, 1.405, 1.4049, 1.4049, 1.4049, 1.4049, 1.4048, 1.4048, 1.4048, 1.4048, 1.4048, 1.4048, 1.4048, 1.399, 1.3969, 1.3951, 1.3933, 1.3923, 1.3921, 1.3915, 1.3905, 1.3883, 1.3878, 1.3828, 1.3177, -0.2513, 0.8898, 1.7352, 1.7345, 1.7332, 1.7332, 1.7329, 1.7327, 1.7318, 1.7317, 1.7315, 1.7315, 1.7315, 1.7306, 1.7304, 1.7302, 1.7301, 1.73, 1.7299, 1.7297, 1.7297, 1.7296, 1.7295, 1.7295, 1.727, 1.7254, 1.7248, 1.7244, 1.7242, 1.723, 1.7227, 1.7199, 1.7169, 1.71, 1.686, -0.0321, 1.5101, 1.5101, 1.8635, 1.8624, 1.8622, 1.8618, 1.8618, 1.8617, 1.8617, 1.8617, 1.8617, 1.8617, 1.8617, 1.8617, 1.8592, 1.8586, 1.8563, 1.8561, 1.8561, 1.856, 1.856, 1.8558, 1.8557, 1.8557, 1.8557, 1.8557, 1.8557, 1.8557, 1.8546, 1.8538, 1.8535, 1.8532, 1.7382, 0.8612]}, \"token.table\": {\"Topic\": [2, 3, 5, 3, 4, 1, 1, 1, 4, 1, 1, 1, 2, 4, 4, 2, 5, 5, 4, 5, 3, 1, 3, 1, 1, 5, 5, 3, 5, 2, 3, 5, 2, 3, 4, 2, 4, 2, 1, 2, 2, 3, 4, 1, 2, 4, 2, 1, 5, 2, 1, 5, 2, 1, 2, 3, 4, 3, 5, 4, 1, 3, 5, 3, 2, 3, 5, 2, 2, 4, 2, 5, 4, 3, 1, 4, 1, 5, 4, 3, 3, 3, 5, 4, 1, 3, 1, 5, 3, 4, 1, 2, 3, 4, 5, 2, 3, 1, 2, 1, 3, 2, 1, 5, 4, 2, 1, 2, 3, 4, 5, 1, 5, 2, 3, 5, 4, 2, 3, 1, 3, 4, 5, 3, 3, 2, 1, 3, 4, 5, 4, 4, 2, 5, 2, 5, 2, 3, 4, 5, 5, 1, 5, 1, 2, 5, 5, 5, 2, 5, 3, 4, 1, 5, 4, 3, 5, 2, 4, 5, 2, 5, 1, 5, 4, 1, 1, 4, 3, 2, 5, 3, 5, 3, 3, 4, 4, 4, 3, 2, 4, 5, 5, 1, 4, 3, 1, 4, 5, 2, 5, 1, 3, 4, 5, 1, 4, 2, 1, 5, 1, 1], \"Freq\": [0.08272798205322861, 0.9159169441607453, 0.0059091415752306154, 0.9889943864972447, 0.9923714628571207, 0.9961000976387208, 0.9940573203488419, 0.994106788880586, 0.989498196719994, 0.9972121201890093, 0.9961506994763752, 0.05556277180942152, 0.14287569893851249, 0.793753882991736, 0.9920314152688081, 0.9881615092993046, 0.00830387822940592, 0.9984148809231244, 0.9953063446695594, 0.9944846298753186, 0.9984080219055392, 0.9933368123067006, 0.9987251434695047, 0.9957608375928212, 0.9896379638574159, 0.9950506472740213, 0.9944846298753186, 0.998211432626237, 0.9984195025608186, 0.018010168526115197, 0.9725491004102206, 0.009005084263057598, 0.9902158818517263, 0.9981682775317207, 0.9906831112861897, 0.9987558324907815, 0.9949249300758246, 0.990563575592853, 0.9953588230831557, 0.9746418485676536, 0.9988348720972456, 0.9976449526864275, 0.9944448886345965, 0.05556277180942152, 0.14287569893851249, 0.793753882991736, 0.9903936700671158, 0.9957524567112425, 0.9963438282321218, 0.9746418485676536, 0.9961506994763752, 0.9962866574153134, 0.9952127084964324, 0.3839644262844434, 0.2551558473813288, 0.19054644872769652, 0.17044574692434425, 0.9876622534165439, 0.008162497962120197, 0.9964005200144285, 0.9961506994763752, 0.9900982835524403, 0.007857922885336828, 0.998689842322546, 0.998868332594042, 0.9969221166421396, 0.996798242583759, 0.9885611620894255, 0.9847633858502625, 0.9908810064210144, 0.990563575592853, 0.9941619355855349, 0.9903117526445561, 0.9768230247171139, 0.9961506994763752, 0.9935797141805685, 0.9973780063385473, 0.9984195025608186, 0.9942396857664825, 0.9981949651925716, 0.9788625666662603, 0.998231639859659, 0.9916239992827214, 0.994827252616915, 0.8817611567169663, 0.11430237216701415, 0.9931804173037828, 0.9944846298753186, 0.9994151241520101, 0.9846335226473388, 0.008004615579028318, 0.056032309053198226, 0.5923415528480955, 0.2241292362127929, 0.12006923368542477, 0.9985276085974033, 0.9986492129447843, 0.9970040174880423, 0.9826400032460221, 0.9925517413488714, 0.9889602116268275, 0.990563575592853, 0.11692541513616561, 0.8827868842780503, 0.9949836448292195, 0.9905066647249543, 0.006331350907905742, 0.006331350907905742, 0.006331350907905742, 0.9750280398174843, 0.012662701815811485, 0.9972323588495668, 0.9982770489217272, 0.9987558324907815, 0.9985140032586667, 0.987795588921439, 0.9951284804513382, 0.9993865582579469, 0.9972791714505754, 0.01250323010820164, 0.00625161505410082, 0.9502454882233246, 0.02500646021640328, 0.9970760966719371, 0.998231639859659, 0.9990186569973586, 0.24673721590267753, 0.1919067234798603, 0.19647593118176174, 0.36553661615211486, 0.9890817860760108, 0.9942396857664825, 0.9954272154850166, 0.0034683875104007545, 0.990563575592853, 0.9970925756874931, 0.9895083938047764, 0.9987044695018542, 0.9965424097639475, 0.9951205548929715, 0.9944846298753186, 0.9956984519115266, 0.0025862297452247445, 0.9904073440277694, 0.9984160655390393, 0.9984195025608186, 0.9876029283059811, 0.9930942071696506, 0.9987558324907815, 0.9905279284030142, 0.9815488229095872, 0.9917891294378778, 0.9926768235028915, 0.995839667719612, 0.9896471886322554, 0.992587447350536, 0.007407369010078626, 0.006375012515260234, 0.9881269398653363, 0.006375012515260234, 0.9993872786700959, 0.9927552837519827, 0.9889798923795459, 0.9990543685044694, 0.9806082380183051, 0.9922589949371114, 0.9902457973009747, 0.9847983870441617, 0.9940212030485402, 0.990563575592853, 0.9944846298753186, 0.9973763805994083, 0.9900320246651617, 0.9988542244076065, 0.01657392718874837, 0.9778617041361539, 0.9890817860760108, 0.9931002187031021, 0.9879367332495456, 0.9868784964200571, 0.9969170635556487, 0.9921317907072643, 0.996886745630868, 0.9948627499293241, 0.996976313544443, 0.9969590334285541, 0.9948787182409762, 0.9926429034204789, 0.006243037128430685, 0.9808001131265589, 0.9905329432953833, 0.9977437475040047, 0.9985562073808255, 0.9895448895286507, 0.006343236471337505, 0.9868724522964976, 0.004677120626997619, 0.9758397568892544, 0.9947991243520831, 0.9975710909290356, 0.9959260932290811, 0.9972605203820207], \"Term\": [\"aa\", \"aa\", \"aa\", \"aca\", \"ademas\", \"ahora\", \"anterior\", \"anti\", \"aqua\", \"asa\", \"asesorar\", \"asisergio\", \"asisergio\", \"asisergio\", \"aucas\", \"autoridades\", \"autoridades\", \"ayer\", \"barbosa\", \"bendicion\", \"boric\", \"buena\", \"camara\", \"cara\", \"carabineros\", \"casa\", \"certeza\", \"chahuan\", \"charla\", \"chile\", \"chile\", \"chile\", \"chilenas\", \"chiste\", \"ciudadanos\", \"clanes\", \"colombia\", \"columna\", \"combatir\", \"corridaa\", \"corrupcion\", \"cosa\", \"criminal\", \"cuadro\", \"cuadro\", \"cuadro\", \"cuenta\", \"da\", \"daba\", \"daremos\", \"dejarse\", \"delina\", \"delincuena\", \"delincuencia\", \"delincuencia\", \"delincuencia\", \"delincuencia\", \"delito\", \"delito\", \"desatada\", \"desconta\", \"destruccion\", \"destruccion\", \"dice\", \"dicen\", \"dichos\", \"dijo\", \"dura\", \"ecuador\", \"entonces\", \"escalofriante\", \"esmeraldas\", \"esposa\", \"estan\", \"exministros\", \"familia\", \"fanb\", \"feria\", \"figura\", \"francisco\", \"frase\", \"ganar\", \"ganaremos\", \"gente\", \"gobierno\", \"gobierno\", \"gonzalo\", \"guera\", \"guitarra\", \"hacer\", \"historia\", \"historia\", \"historia\", \"historia\", \"historia\", \"hoa\", \"hoy\", \"idea\", \"ignorancia\", \"interior\", \"ir\", \"irrea\", \"joven\", \"joven\", \"judicial\", \"leer\", \"lejos\", \"lejos\", \"lejos\", \"lejos\", \"lejos\", \"ley\", \"libro\", \"ligados\", \"llego\", \"llevarle\", \"lopez\", \"maaana\", \"mala\", \"mandatario\", \"mandatario\", \"mandatario\", \"mandatario\", \"manera\", \"manido\", \"marchoporpetro\", \"mas\", \"mas\", \"mas\", \"mas\", \"materiala\", \"mediocentro\", \"mejor\", \"mejor\", \"mercurio\", \"mientras\", \"migracion\", \"moneda\", \"n\", \"nacional\", \"obispo\", \"organizada\", \"organizada\", \"pa\", \"paas\", \"palabra\", \"palabras\", \"palacio\", \"parapolatica\", \"parque\", \"pasa\", \"perros\", \"piaera\", \"pidio\", \"plan\", \"poder\", \"poder\", \"podido\", \"podido\", \"podido\", \"polaticos\", \"policaas\", \"prensa\", \"presidente\", \"proteger\", \"proyectos\", \"puede\", \"puertas\", \"q\", \"recomiendo\", \"recordara\", \"recuperar\", \"reunion\", \"rn\", \"sabemos\", \"sabemos\", \"sacaba\", \"sacar\", \"senador\", \"sera\", \"si\", \"siempre\", \"siendo\", \"sistema\", \"solo\", \"ta\", \"tal\", \"total\", \"total\", \"tranquilo\", \"trata\", \"tregua\", \"utilizacion\", \"vaa\", \"vaa\", \"vactima\", \"vactima\", \"vamos\", \"vez\", \"villavicencio\", \"voto\", \"winter\"]}, \"R\": 30, \"lambda.step\": 0.01, \"plot.opts\": {\"xlab\": \"PC1\", \"ylab\": \"PC2\"}, \"topic.order\": [1, 2, 3, 4, 5]};\n",
       "\n",
       "function LDAvis_load_lib(url, callback){\n",
       "  var s = document.createElement('script');\n",
       "  s.src = url;\n",
       "  s.async = true;\n",
       "  s.onreadystatechange = s.onload = callback;\n",
       "  s.onerror = function(){console.warn(\"failed to load library \" + url);};\n",
       "  document.getElementsByTagName(\"head\")[0].appendChild(s);\n",
       "}\n",
       "\n",
       "if(typeof(LDAvis) !== \"undefined\"){\n",
       "   // already loaded: just create the visualization\n",
       "   !function(LDAvis){\n",
       "       new LDAvis(\"#\" + \"ldavis_el677554338098726683729089\", ldavis_el677554338098726683729089_data);\n",
       "   }(LDAvis);\n",
       "}else if(typeof define === \"function\" && define.amd){\n",
       "   // require.js is available: use it to load d3/LDAvis\n",
       "   require.config({paths: {d3: \"https://d3js.org/d3.v5\"}});\n",
       "   require([\"d3\"], function(d3){\n",
       "      window.d3 = d3;\n",
       "      LDAvis_load_lib(\"https://cdn.jsdelivr.net/gh/bmabey/pyLDAvis@3.4.0/pyLDAvis/js/ldavis.v3.0.0.js\", function(){\n",
       "        new LDAvis(\"#\" + \"ldavis_el677554338098726683729089\", ldavis_el677554338098726683729089_data);\n",
       "      });\n",
       "    });\n",
       "}else{\n",
       "    // require.js not available: dynamically load d3 & LDAvis\n",
       "    LDAvis_load_lib(\"https://d3js.org/d3.v5.js\", function(){\n",
       "         LDAvis_load_lib(\"https://cdn.jsdelivr.net/gh/bmabey/pyLDAvis@3.4.0/pyLDAvis/js/ldavis.v3.0.0.js\", function(){\n",
       "                 new LDAvis(\"#\" + \"ldavis_el677554338098726683729089\", ldavis_el677554338098726683729089_data);\n",
       "            })\n",
       "         });\n",
       "}\n",
       "</script>"
      ],
      "text/plain": [
       "<IPython.core.display.HTML object>"
      ]
     },
     "execution_count": 9,
     "metadata": {},
     "output_type": "execute_result"
    }
   ],
   "source": [
    "import pyLDAvis.gensim_models as gensimvis\n",
    "import pyLDAvis\n",
    "\n",
    "# Preparar los datos para pyLDAvis\n",
    "lda_display = gensimvis.prepare(lda, corpus, diccionario, sort_topics=False)\n",
    "\n",
    "# Mostrar la visualización\n",
    "pyLDAvis.display(lda_display)\n"
   ]
  },
  {
   "cell_type": "markdown",
   "id": "4356f12b",
   "metadata": {},
   "source": [
    "En la parte izquierda de la imagen, tienes un \"Mapa de Distancia Intertópica\" que ha sido generado a través de un proceso de escalamiento multidimensional (multidimensional scaling, MDS). Este mapa visualiza la distancia entre distintos tópicos, lo que puede interpretarse como qué tan diferentes son los tópicos entre sí. Los números representan los tópicos identificados, y el tamaño de los círculos suele corresponder a la proporción de documentos en el conjunto de datos que pertenecen a ese tópico. Los círculos que están más cerca entre sí representan tópicos que comparten una similitud más significativa en términos de las palabras que contienen.\n",
    "\n",
    "En la parte derecha, tienes un gráfico de barras que muestra los \"30 términos más sobresalientes\" del tópico seleccionado (en este caso parece ser el tópico 1, aunque no está explícitamente marcado). Cada barra representa la frecuencia estimada de un término dentro del tópico seleccionado, lo que ayuda a entender cuáles son las palabras clave que caracterizan ese tópico. Estos términos son importantes para interpretar el tema subyacente del tópico. Por ejemplo, palabras como \"guitarra\" y \"corrupción\" pueden sugerir temas relacionados con música y política, respectivamente, pero sin más contexto es difícil definir el tema exacto.\n",
    "\n",
    "La relevancia de los términos, que también parece estar anotada en el gráfico, es una medida calculada que combina la frecuencia del término con su exclusividad en el tópico, ayudando a identificar palabras que no solo son frecuentes sino también distintivas del tópico en cuestión.\n",
    "\n"
   ]
  }
 ],
 "metadata": {
  "kernelspec": {
   "display_name": "Python 3 (ipykernel)",
   "language": "python",
   "name": "python3"
  },
  "language_info": {
   "codemirror_mode": {
    "name": "ipython",
    "version": 3
   },
   "file_extension": ".py",
   "mimetype": "text/x-python",
   "name": "python",
   "nbconvert_exporter": "python",
   "pygments_lexer": "ipython3",
   "version": "3.11.5"
  }
 },
 "nbformat": 4,
 "nbformat_minor": 5
}
