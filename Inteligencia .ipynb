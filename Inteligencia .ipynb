{
 "cells": [
  {
   "cell_type": "code",
   "execution_count": null,
   "id": "bf173b89",
   "metadata": {},
   "outputs": [],
   "source": [
    "# import nltk\n",
    "# nltk.download('punkt')\n"
   ]
  },
  {
   "cell_type": "code",
   "execution_count": null,
   "id": "63fa0929",
   "metadata": {},
   "outputs": [],
   "source": [
    "# nltk.download('stopwords')\n"
   ]
  },
  {
   "cell_type": "code",
   "execution_count": 1,
   "id": "adb3af6c",
   "metadata": {},
   "outputs": [
    {
     "data": {
      "text/html": [
       "<div>\n",
       "<style scoped>\n",
       "    .dataframe tbody tr th:only-of-type {\n",
       "        vertical-align: middle;\n",
       "    }\n",
       "\n",
       "    .dataframe tbody tr th {\n",
       "        vertical-align: top;\n",
       "    }\n",
       "\n",
       "    .dataframe thead th {\n",
       "        text-align: right;\n",
       "    }\n",
       "</style>\n",
       "<table border=\"1\" class=\"dataframe\">\n",
       "  <thead>\n",
       "    <tr style=\"text-align: right;\">\n",
       "      <th></th>\n",
       "      <th>Index</th>\n",
       "      <th>Autor</th>\n",
       "      <th>Texto</th>\n",
       "      <th>Fecha de creacion</th>\n",
       "      <th>Hashtags</th>\n",
       "    </tr>\n",
       "  </thead>\n",
       "  <tbody>\n",
       "    <tr>\n",
       "      <th>0</th>\n",
       "      <td>0</td>\n",
       "      <td>CarlosAnax</td>\n",
       "      <td>\"RT @HablemosdePolt4: La peor delincuencia no ...</td>\n",
       "      <td>2022-11-15 03:50:24+00:00</td>\n",
       "      <td>[]</td>\n",
       "    </tr>\n",
       "    <tr>\n",
       "      <th>1</th>\n",
       "      <td>1</td>\n",
       "      <td>Noticias_Sonaa</td>\n",
       "      <td>\"RT @ProtegeryServir: La PolicÃ­a Nacional, re...</td>\n",
       "      <td>2022-11-15 03:50:23+00:00</td>\n",
       "      <td>[]</td>\n",
       "    </tr>\n",
       "    <tr>\n",
       "      <th>2</th>\n",
       "      <td>2</td>\n",
       "      <td>martinsincelejo</td>\n",
       "      <td>\"RT @GustavoBolivar: Ayer en Villavicencio, mi...</td>\n",
       "      <td>2022-11-15 03:50:21+00:00</td>\n",
       "      <td>[]</td>\n",
       "    </tr>\n",
       "    <tr>\n",
       "      <th>3</th>\n",
       "      <td>3</td>\n",
       "      <td>braugahi</td>\n",
       "      <td>\"... Cuando va a colocar una unidad movil de m...</td>\n",
       "      <td>2022-11-15 03:50:19+00:00</td>\n",
       "      <td>[]</td>\n",
       "    </tr>\n",
       "    <tr>\n",
       "      <th>4</th>\n",
       "      <td>4</td>\n",
       "      <td>JLGarca4</td>\n",
       "      <td>RT @yasnalewin: Tal vez no sea buena idea deja...</td>\n",
       "      <td>2022-11-15 03:50:18+00:00</td>\n",
       "      <td>[]</td>\n",
       "    </tr>\n",
       "    <tr>\n",
       "      <th>...</th>\n",
       "      <td>...</td>\n",
       "      <td>...</td>\n",
       "      <td>...</td>\n",
       "      <td>...</td>\n",
       "      <td>...</td>\n",
       "    </tr>\n",
       "    <tr>\n",
       "      <th>994</th>\n",
       "      <td>989</td>\n",
       "      <td>DominiqueBaq</td>\n",
       "      <td>\"RT @jmerchanhaz: Que los violentos no se conf...</td>\n",
       "      <td>2022-11-15 02:56:55+00:00</td>\n",
       "      <td>[]</td>\n",
       "    </tr>\n",
       "    <tr>\n",
       "      <th>995</th>\n",
       "      <td>990</td>\n",
       "      <td>Kmmcanyonmoon1</td>\n",
       "      <td>@lamissme @beau_chile @PaulaChic @MuDesamparad...</td>\n",
       "      <td>2022-11-15 02:56:52+00:00</td>\n",
       "      <td>[]</td>\n",
       "    </tr>\n",
       "    <tr>\n",
       "      <th>996</th>\n",
       "      <td>991</td>\n",
       "      <td>cz61_s1MaryLeo</td>\n",
       "      <td>RT @aurribarri9: ReuniÃ³n de Seguridad Ciudada...</td>\n",
       "      <td>2022-11-15 02:56:49+00:00</td>\n",
       "      <td>[]</td>\n",
       "    </tr>\n",
       "    <tr>\n",
       "      <th>997</th>\n",
       "      <td>992</td>\n",
       "      <td>FABIANF150176</td>\n",
       "      <td>\"RT @GustavoBolivar: Ayer en Villavicencio, mi...</td>\n",
       "      <td>2022-11-15 02:56:44+00:00</td>\n",
       "      <td>[]</td>\n",
       "    </tr>\n",
       "    <tr>\n",
       "      <th>998</th>\n",
       "      <td>993</td>\n",
       "      <td>MiltonS24980639</td>\n",
       "      <td>\"RT @LassoGuillermo: Que los violentos no se c...</td>\n",
       "      <td>2022-11-15 02:56:44+00:00</td>\n",
       "      <td>[]</td>\n",
       "    </tr>\n",
       "  </tbody>\n",
       "</table>\n",
       "<p>999 rows × 5 columns</p>\n",
       "</div>"
      ],
      "text/plain": [
       "    Index            Autor                                              Texto  \\\n",
       "0       0       CarlosAnax  \"RT @HablemosdePolt4: La peor delincuencia no ...   \n",
       "1       1   Noticias_Sonaa  \"RT @ProtegeryServir: La PolicÃ­a Nacional, re...   \n",
       "2       2  martinsincelejo  \"RT @GustavoBolivar: Ayer en Villavicencio, mi...   \n",
       "3       3         braugahi  \"... Cuando va a colocar una unidad movil de m...   \n",
       "4       4         JLGarca4  RT @yasnalewin: Tal vez no sea buena idea deja...   \n",
       "..    ...              ...                                                ...   \n",
       "994   989     DominiqueBaq  \"RT @jmerchanhaz: Que los violentos no se conf...   \n",
       "995   990   Kmmcanyonmoon1  @lamissme @beau_chile @PaulaChic @MuDesamparad...   \n",
       "996   991   cz61_s1MaryLeo  RT @aurribarri9: ReuniÃ³n de Seguridad Ciudada...   \n",
       "997   992    FABIANF150176  \"RT @GustavoBolivar: Ayer en Villavicencio, mi...   \n",
       "998   993  MiltonS24980639  \"RT @LassoGuillermo: Que los violentos no se c...   \n",
       "\n",
       "             Fecha de creacion Hashtags  \n",
       "0    2022-11-15 03:50:24+00:00       []  \n",
       "1    2022-11-15 03:50:23+00:00       []  \n",
       "2    2022-11-15 03:50:21+00:00       []  \n",
       "3    2022-11-15 03:50:19+00:00       []  \n",
       "4    2022-11-15 03:50:18+00:00       []  \n",
       "..                         ...      ...  \n",
       "994  2022-11-15 02:56:55+00:00       []  \n",
       "995  2022-11-15 02:56:52+00:00       []  \n",
       "996  2022-11-15 02:56:49+00:00       []  \n",
       "997  2022-11-15 02:56:44+00:00       []  \n",
       "998  2022-11-15 02:56:44+00:00       []  \n",
       "\n",
       "[999 rows x 5 columns]"
      ]
     },
     "execution_count": 1,
     "metadata": {},
     "output_type": "execute_result"
    }
   ],
   "source": [
    "import pandas as pd\n",
    "import re\n",
    "from nltk.corpus import stopwords\n",
    "from nltk.tokenize import word_tokenize\n",
    "\n",
    "# Cargar datos \n",
    "archivo_excel = 'DatosProcesados.xlsx'\n",
    "data = pd.read_excel(archivo_excel)\n",
    "data"
   ]
  },
  {
   "cell_type": "code",
   "execution_count": 2,
   "id": "f2c87f1d",
   "metadata": {},
   "outputs": [],
   "source": [
    "\n",
    "# Función para limpiar el texto\n",
    "def limpiar_texto(texto):\n",
    "    texto = texto.lower()  # Convertir a minúsculas\n",
    "    texto = re.sub(r'http\\S+', '', texto)  # Eliminar URLs\n",
    "    texto = re.sub(r'@\\w+', '', texto)  # Eliminar menciones\n",
    "    texto = re.sub(r'[^a-záéíóúñ]', ' ', texto)  # Conservar solo letras y caracteres españoles\n",
    "    texto = re.sub(r'\\s+', ' ', texto)  # Eliminar espacios extra\n",
    "    return texto.strip()\n",
    "\n",
    "# Aplicar la limpieza\n",
    "\n"
   ]
  },
  {
   "cell_type": "code",
   "execution_count": 3,
   "id": "e3e88462",
   "metadata": {},
   "outputs": [],
   "source": [
    "data['Texto'] = data['Texto'].fillna('')\n",
    "\n",
    "data['Texto'] = data['Texto'].apply(limpiar_texto)"
   ]
  },
  {
   "cell_type": "code",
   "execution_count": 4,
   "id": "21bd755e",
   "metadata": {},
   "outputs": [],
   "source": [
    "from collections import Counter\n",
    "\n",
    "# Unir todo el texto en una sola cadena\n",
    "texto_total = ' '.join(data['Texto'])\n",
    "\n",
    "# Tokenizar el texto\n",
    "tokens = word_tokenize(texto_total)\n",
    "\n",
    "# Eliminar stopwords\n",
    "palabras_importantes = [palabra for palabra in tokens if palabra not in stopwords.words('spanish')]\n",
    "\n",
    "# Contar frecuencia de palabras\n",
    "frecuencia_palabras = Counter(palabras_importantes)\n"
   ]
  },
  {
   "cell_type": "code",
   "execution_count": 5,
   "id": "2b3a2d93",
   "metadata": {},
   "outputs": [],
   "source": [
    "from textblob import TextBlob\n",
    "from googletrans import Translator\n",
    "\n",
    "translator = Translator()\n",
    "\n",
    "# Función para analizar sentimientos\n",
    "def analizar_sentimiento(texto):\n",
    "    try:\n",
    "        texto_en = translator.translate(texto, dest='en').text\n",
    "        return TextBlob(texto_en).sentiment.polarity\n",
    "    except Exception as e:\n",
    "        return None\n",
    "\n",
    "data['Sentimiento'] = data['Texto'].apply(analizar_sentimiento)\n"
   ]
  },
  {
   "cell_type": "code",
   "execution_count": 6,
   "id": "cb053dc2",
   "metadata": {},
   "outputs": [
    {
     "data": {
      "image/png": "[encoded data removed]",
      "text/plain": [
       "<Figure size 640x480 with 1 Axes>"
      ]
     },
     "metadata": {},
     "output_type": "display_data"
    }
   ],
   "source": [
    "import matplotlib.pyplot as plt\n",
    "import seaborn as sns\n",
    "\n",
    "# Ejemplo: Gráfico de barras para las 10 palabras más comunes\n",
    "palabras_comunes = pd.DataFrame(frecuencia_palabras.most_common(10), columns=['Palabra', 'Frecuencia'])\n",
    "sns.barplot(x='Frecuencia', y='Palabra', data=palabras_comunes)\n",
    "plt.show()\n"
   ]
  },
  {
   "cell_type": "code",
   "execution_count": 7,
   "id": "fe373aa5",
   "metadata": {},
   "outputs": [
    {
     "name": "stdout",
     "output_type": "stream",
     "text": [
      "0      None\n",
      "1      None\n",
      "2      None\n",
      "3      None\n",
      "4      None\n",
      "       ... \n",
      "994    None\n",
      "995    None\n",
      "996    None\n",
      "997    None\n",
      "998    None\n",
      "Name: Sentimiento, Length: 999, dtype: object\n"
     ]
    }
   ],
   "source": [
    "print(data['Sentimiento'])"
   ]
  }
 ],
 "metadata": {
  "kernelspec": {
   "display_name": "Python 3 (ipykernel)",
   "language": "python",
   "name": "python3"
  },
  "language_info": {
   "codemirror_mode": {
    "name": "ipython",
    "version": 3
   },
   "file_extension": ".py",
   "mimetype": "text/x-python",
   "name": "python",
   "nbconvert_exporter": "python",
   "pygments_lexer": "ipython3",
   "version": "3.11.5"
  }
 },
 "nbformat": 4,
 "nbformat_minor": 5
}
